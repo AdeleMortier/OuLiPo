{
 "cells": [
  {
   "cell_type": "markdown",
   "metadata": {},
   "source": [
    "# \"Chimère\" project"
   ]
  },
  {
   "cell_type": "markdown",
   "metadata": {},
   "source": [
    "This project is inspired by the constrained writing techniques of OuLiPo. More precisely, it is supposed to be a \"quick and dirty\" version of the \"Chimère\" game (http://oulipo.net/fr/contraintes/chimere), which consists in taking a \"mold\", i.e. a text where nouns, adjectives and verbs have been removed (but not their POS Tag in context), and \"filling\" it with nouns, adjectives and verbs from other texts, in the order in which they appear."
   ]
  },
  {
   "cell_type": "markdown",
   "metadata": {},
   "source": [
    "## Fetching data"
   ]
  },
  {
   "cell_type": "markdown",
   "metadata": {},
   "source": [
    "To guarantee the weirdest effect possible, we chose texts that were pretty different from one another. The mold is a Wikipedia article for \"Bison\", so pretty serious and objective. The other support texts are from French literature : poetry (Mallarmé), romanticism (Hugo) and realism (Maupassant)."
   ]
  },
  {
   "cell_type": "code",
   "execution_count": 135,
   "metadata": {},
   "outputs": [],
   "source": [
    "import wikipedia\n",
    "\n",
    "wikipedia.set_lang('fr')\n",
    "T = wikipedia.page('Bison').content[:983]\n",
    "\n",
    "f = open('mallarme.txt')\n",
    "S = f.read()[3375:5600]\n",
    "\n",
    "f = open('hugo.txt')\n",
    "A = f.read()[13850:16984]\n",
    "\n",
    "f = open('maupassant.txt')\n",
    "V = f.read()[8010: 11944]"
   ]
  },
  {
   "cell_type": "markdown",
   "metadata": {},
   "source": [
    "## POS tagging"
   ]
  },
  {
   "cell_type": "markdown",
   "metadata": {},
   "source": [
    "Here we tag the texts in order to identify where are the POS tags at stake : nouns, adjectives and verbs. We replace the actual words by their POS tags in the mold, and then fill the mold with the relevant \"filler words\" from the other texts."
   ]
  },
  {
   "cell_type": "code",
   "execution_count": 139,
   "metadata": {},
   "outputs": [],
   "source": [
    "from nltk.tag import StanfordPOSTagger\n",
    "jar = 'stanford-postagger-full-2018-02-27/stanford-postagger-3.9.1.jar'\n",
    "model = 'stanford-postagger-full-2018-02-27/models/french.tagger'\n",
    "import os\n",
    "java_path = \"/usr/java/jdk1.8.0_172/bin/java.exe\"\n",
    "os.environ['JAVAHOME'] = java_path\n",
    "\n",
    "pos_tagger = StanfordPOSTagger(model, jar, encoding='utf8' )\n",
    "punctuation = ['.', '?', '!', ';', ':']\n",
    "\n",
    "def create_mold(T):\n",
    "    T_parsed = pos_tagger.tag(T.split())\n",
    "    pos_to_remove = ['ADJ', 'N', 'NC', 'V']\n",
    "    mold = []\n",
    "    for elem in T_parsed:\n",
    "        word = elem[0]\n",
    "        pos = elem[1]\n",
    "        if pos in pos_to_remove:\n",
    "            mold.append(pos)\n",
    "            if word[-1] in punctuation:\n",
    "                mold.append(word[-1])\n",
    "        else:\n",
    "            mold.append(word)\n",
    "    return (mold)\n",
    "\n",
    "def extract_fillers(S, pos_to_extract):\n",
    "    S_parsed = pos_tagger.tag(S.split())\n",
    "    fillers = []\n",
    "    for elem in S_parsed:\n",
    "        if elem[1] in pos_to_extract:\n",
    "            word = elem[0]\n",
    "            if word[-1] in punctuation:\n",
    "                word = word[:-1]\n",
    "            fillers.append(word)\n",
    "    fillers.reverse()\n",
    "    return fillers\n",
    "\n",
    "def fill_mold(mold, fillers, pos_to_fill):\n",
    "    last_seen = 0\n",
    "    while set(pos_to_fill) & set(mold) != set() and fillers:\n",
    "        filler = fillers.pop()\n",
    "        for i, elem in enumerate(mold[last_seen+1:-1]):\n",
    "            if elem in pos_to_fill:\n",
    "                mold[last_seen+i+1] = filler\n",
    "                last_seen = last_seen+i+1\n",
    "                break\n",
    "    return mold"
   ]
  },
  {
   "cell_type": "markdown",
   "metadata": {},
   "source": [
    "## Testing"
   ]
  },
  {
   "cell_type": "markdown",
   "metadata": {},
   "source": [
    "The algorithm works but does not handle subject-verb agreement, or verb-adjective agreement. A \"harmonisation\" step should be added for this to work well."
   ]
  },
  {
   "cell_type": "code",
   "execution_count": 138,
   "metadata": {},
   "outputs": [
    {
     "name": "stdout",
     "output_type": "stream",
     "text": [
      "Les ciel (Bison Smith, crus versait un monde de toutes décrépitude, grande dont il pris deux nuages triple : le lambeaux d'Europe (Bison bonasus) et le pourpre 6 du Nord (Bison bison) qui tournai elle-même divisée en deux couchants : le rivière des l'horizon (Bison rayons athabascae) et le d'eau des arbres notable (Bison feuillage d'écoliers . Le poussière des temps, mettaient essentiellement dans les chemins), monsieur tandis que le maison des toile et le choses d'Europe épais, des réverbère belle . Les crépuscule entre les fréquente visages vivant actuellement ne saisit pas totalement quinzième . Elles hâtai sans foule, très proches, maladie d'être des chamarrée péché . Il sembla que la siècles, des dernière soit la flamands que celle des complices non grand . Il marchait fruits des terre bonne vivant en silence dans le Caucase cohue depuis les yeux soleil . Il toucher donc considérer Bison l'eau, et Bison bonasus comme deux désespoir et non comme deux cri, flamands, .\n"
     ]
    }
   ],
   "source": [
    "mold = create_mold(T)\n",
    "\n",
    "fillers_S = extract_fillers(S, ['N', 'NC'])\n",
    "fillers_A = extract_fillers(A, ['ADJ'])\n",
    "fillers_V = extract_fillers(V, ['V'])\n",
    "\n",
    "mold = fill_mold(mold, fillers_A, ['ADJ'])\n",
    "mold = fill_mold(mold, fillers_S, ['N', 'NC'])\n",
    "mold = fill_mold(mold, fillers_V, ['V'])\n",
    "\n",
    "print ' '.join(mold)"
   ]
  },
  {
   "cell_type": "code",
   "execution_count": null,
   "metadata": {},
   "outputs": [],
   "source": []
  }
 ],
 "metadata": {
  "kernelspec": {
   "display_name": "Python 2",
   "language": "python",
   "name": "python2"
  },
  "language_info": {
   "codemirror_mode": {
    "name": "ipython",
    "version": 2
   },
   "file_extension": ".py",
   "mimetype": "text/x-python",
   "name": "python",
   "nbconvert_exporter": "python",
   "pygments_lexer": "ipython2",
   "version": "2.7.12"
  }
 },
 "nbformat": 4,
 "nbformat_minor": 2
}
