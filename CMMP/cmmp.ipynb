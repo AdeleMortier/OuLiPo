{
 "cells": [
  {
   "cell_type": "markdown",
   "metadata": {},
   "source": [
    "# CMMP (Cent mille milliards de poèmes)"
   ]
  },
  {
   "cell_type": "markdown",
   "metadata": {},
   "source": [
    "This project aims at reproducing Raymond Queneau's book *Cent mille milliards de poèmes* in a digital format. At each execution, a poem is created randomly as if someone was manipulating the real book and turning randomly the 14 separate strips that compose it."
   ]
  },
  {
   "cell_type": "code",
   "execution_count": 15,
   "metadata": {},
   "outputs": [
    {
     "name": "stdout",
     "output_type": "stream",
     "text": [
      "Le marbre pour l'acide est une friandise\n",
      "se faire il pourrait bien que ce soit des jumeaux\n",
      "il se penche et alors à sa grande surprise\n",
      "et fermentent de même et les cuirs et les peaux\n",
      "On vous fait devenir une orde marchandise\n",
      "le vulgaire s'entête à vouloir des vers beaux\n",
      "il grelottait le pauvre aux bords de la Tamise\n",
      "la mite a grignoté tissu os et rideaux\n",
      "Le généalogiste observe leur bouillotte\n",
      "une langue suffit pour emplir sa cagnotte\n",
      "le colonel s'éponge un blason dans la main\n",
      "Cela considérant ô lecteur tu suffoques\n",
      "on transporte et le marbre et débris et défroques\n",
      "l'écu de vair ou d'or ne dure qu'un matin\n",
      "\n"
     ]
    }
   ],
   "source": [
    "import re\n",
    "import random\n",
    "\n",
    "def extract_verses():\n",
    "    f = open('cmmp.html')\n",
    "    cmmp = f.read()\n",
    "    ends = [m.start() for m in re.finditer('</SELECT>', cmmp)]\n",
    "    starts = [m.end() for m in re.finditer('<SELECT NAME=\"vers[0-9]*\">', cmmp)]\n",
    "    verse_batches = [[] for _ in range(0, 14)]\n",
    "    for k, (i, j) in enumerate(zip(starts, ends)):\n",
    "        verse_batch = cmmp[i:j]\n",
    "        starts_ = [m.end() for m in re.finditer('<OPTION>', verse_batch)]\n",
    "        ends_ = [start-8 for start in starts_][1:]\n",
    "        for i_, j_ in zip(starts_, ends_):\n",
    "            verse_batches[k].append(verse_batch[i_:j_-1])\n",
    "        verse_batches[k].append(verse_batch[starts_[-1]:-1])\n",
    "    return verse_batches\n",
    "            \n",
    "def build_poem(verse_batches):\n",
    "    verses = ''\n",
    "    for verse_batch in verse_batches:\n",
    "        verses += random.choice(verse_batch) + '\\n'\n",
    "    return verses\n",
    "\n",
    "def correct_accents(verses):\n",
    "    accent_to_code = {'À' : '&Agrave;' ,\n",
    "               'à' : '&agrave;',\n",
    "               'Â' : '&Acirc;',\n",
    "               'â' : '&acirc;',\n",
    "               'Ç' : '&Ccedil;',\n",
    "               'ç' : '&ccedil;',\n",
    "               'È' : '&Egrave;',\n",
    "               'è' : '&egrave;',\n",
    "               'É' : '&Eacute;',\n",
    "               'é' : '&eacute;',\n",
    "               'Ê' : '&Ecirc;',\n",
    "               'ê' : '&ecirc;',\n",
    "               'Ë' : '&Euml;',\n",
    "               'ë' : '&euml;',\n",
    "               'Î' : '&Icirc;',\n",
    "               'î' : '&icirc;',\n",
    "               'Ï' : '&Iuml;',\n",
    "               'ï' : '&iuml;',\n",
    "               'Ô' : '&Ocirc;',\n",
    "               'ô' : '&ocirc;',\n",
    "               'Œ' : '&OElig;',\n",
    "               'œ' : '&oelig;',\n",
    "               'Ù' : '&Ugrave;',\n",
    "               'ù' : '&ugrave;',\n",
    "               'Û' : '&Ucirc;',\n",
    "               'û' : '&ucirc;',\n",
    "               'Ü' : '&Uuml;',\n",
    "               'ü' : '&uuml;',\n",
    "               'Ÿ' : '&#376;',\n",
    "               'ÿ' : '&yuml;'}\n",
    "    code_to_accent = {code : accent for (accent, code) in accent_to_code.items()}\n",
    "    for code in code_to_accent.keys():\n",
    "        while code in verses:\n",
    "            i = verses.find(code)\n",
    "            verses = verses[:i] + code_to_accent[code] + verses[i+len(code):]\n",
    "    return verses\n",
    "        \n",
    "\n",
    "verse_batches = extract_verses()\n",
    "verses = build_poem(verse_batches)\n",
    "verses = correct_accents(verses)\n",
    "\n",
    "print(verses)"
   ]
  }
 ],
 "metadata": {
  "kernelspec": {
   "display_name": "Python 3",
   "language": "python",
   "name": "python3"
  },
  "language_info": {
   "codemirror_mode": {
    "name": "ipython",
    "version": 2
   },
   "file_extension": ".py",
   "mimetype": "text/x-python",
   "name": "python",
   "nbconvert_exporter": "python",
   "pygments_lexer": "ipython2",
   "version": "2.7.12"
  }
 },
 "nbformat": 4,
 "nbformat_minor": 2
}
